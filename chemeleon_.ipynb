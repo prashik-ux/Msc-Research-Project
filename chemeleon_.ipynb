{
 "cells": [
  {
   "cell_type": "code",
   "execution_count": null,
   "metadata": {
    "colab": {
     "base_uri": "https://localhost:8080/"
    },
    "id": "afYgLFMeTZ6s",
    "outputId": "075b52f3-91f3-4843-f2b1-e5ef05c437da"
   },
   "outputs": [],
   "source": [
    "# First, let's check if we're in Google Colab\n",
    "import sys\n",
    "IN_COLAB = 'google.colab' in sys.modules\n",
    "\n",
    "if IN_COLAB:\n",
    "    print(\"Running in Google Colab\")\n",
    "    # Clone the CHEMELEON repository\n",
    "    !git clone https://github.com/hspark1212/chemeleon-dng.git\n",
    "    %cd chemeleon-dng\n",
    "    !pip install -e .\n",
    "else:\n",
    "    print(\"Running locally\")\n",
    "    # Ensure you have the package installed locally\n",
    "    # You should have already cloned and installed chemeleon-dng"
   ]
  },
  {
   "cell_type": "code",
   "execution_count": null,
   "metadata": {
    "colab": {
     "base_uri": "https://localhost:8080/"
    },
    "id": "69WHJ712Ue8f",
    "outputId": "fe5ddc77-3b90-47f4-db20-fae3d34f19c0"
   },
   "outputs": [],
   "source": [
    "# Import required libraries\n",
    "import os\n",
    "import sys\n",
    "from pathlib import Path\n",
    "import numpy as np\n",
    "import pandas as pd\n",
    "import matplotlib.pyplot as plt\n",
    "from pymatgen.core import Structure, Composition\n",
    "from pymatgen.analysis.structure_matcher import StructureMatcher\n",
    "from pymatgen.io.cif import CifWriter\n",
    "import warnings\n",
    "warnings.filterwarnings('ignore')\n",
    "\n",
    "# Add chemeleon-dng to path if running locally\n",
    "if not IN_COLAB:\n",
    "    chemeleon_path = Path('/home/ryan/informatics/chemeleon-dng')\n",
    "    if chemeleon_path.exists():\n",
    "        sys.path.insert(0, str(chemeleon_path))\n",
    "\n",
    "print(\"Libraries imported successfully!\")"
   ]
  },
  {
   "cell_type": "code",
   "execution_count": null,
   "metadata": {
    "colab": {
     "base_uri": "https://localhost:8080/"
    },
    "id": "vrDY4jLkTHJt",
    "outputId": "3cae3b3c-32e9-4ba2-f062-ee9bc3f519d6"
   },
   "outputs": [],
   "source": [
    "import tempfile\n",
    "import subprocess\n",
    "\n",
    "# Create output directory\n",
    "output_dir = tempfile.mkdtemp(prefix=\"chemeleon_csp_\")\n",
    "print(f\"Output directory: {output_dir}\")\n",
    "\n",
    "# Set up the command for NaClO4\n",
    "cmd = (\n",
    "    f\"python /content/chemeleon-dng/chemeleon_dng/sample.py \"\n",
    "    f\"--task=csp --formulas='NaClO4' --num_samples=5 \"\n",
    "    f\"--output_dir='{output_dir}' --device=cpu\"\n",
    ")\n",
    "\n",
    "print(f\"Running: {cmd}\")\n",
    "\n",
    "# Run the generation command\n",
    "result = subprocess.run(cmd, shell=True, capture_output=True, text=True)\n",
    "print(result.stdout)\n",
    "if result.stderr:\n",
    "    print(\"Errors:\", result.stderr)\n"
   ]
  },
  {
   "cell_type": "code",
   "execution_count": null,
   "metadata": {
    "colab": {
     "base_uri": "https://localhost:8080/"
    },
    "id": "oU0eBQpkUwB3",
    "outputId": "79655c2b-29f4-40ec-bfb9-b41f727dba50"
   },
   "outputs": [],
   "source": [
    "# Let's examine the generated structures\n",
    "from pathlib import Path\n",
    "import glob\n",
    "\n",
    "# Find all generated CIF files\n",
    "cif_files = glob.glob(os.path.join(output_dir, \"*.cif\"))\n",
    "print(f\"Found {len(cif_files)} generated structures:\")\n",
    "\n",
    "# Load and analyze the structures\n",
    "generated_structures = []\n",
    "for cif_file in cif_files:\n",
    "    structure = Structure.from_file(cif_file)\n",
    "    generated_structures.append(structure)\n",
    "    print(f\"\\n{Path(cif_file).name}:\")\n",
    "    print(f\"  Formula: {structure.composition.reduced_formula}\")\n",
    "    print(f\"  Space group: {structure.get_space_group_info()[0]}\")\n",
    "    print(f\"  Volume: {structure.volume:.2f} Ų\")\n",
    "    print(f\"  Density: {structure.density:.2f} g/cm³\")"
   ]
  },
  {
   "cell_type": "code",
   "execution_count": null,
   "metadata": {
    "colab": {
     "base_uri": "https://localhost:8080/"
    },
    "id": "FUBdvqF0U6S-",
    "outputId": "71c8be78-c043-4184-c931-e11505827220"
   },
   "outputs": [],
   "source": [
    "import os\n",
    "import subprocess\n",
    "import tempfile\n",
    "\n",
    "formulas_list = ['NaClO4', 'NaBF4', 'NaPF6']\n",
    "formulas_str = ','.join(formulas_list)\n",
    "\n",
    "# Create output directory\n",
    "output_dir_multi = tempfile.mkdtemp(prefix=\"chemeleon_multi_\")\n",
    "print(f\"Output directory: {output_dir_multi}\")\n",
    "\n",
    "# Construct correct command for Colab\n",
    "cmd = f\"python /content/chemeleon-dng/chemeleon_dng/sample.py --task=csp --formulas='{formulas_str}' --num_samples=3 --output_dir='{output_dir_multi}' --device=cpu\"\n",
    "\n",
    "print(f\"Generating structures for: {formulas_list}\")\n",
    "print(f\"Running: {cmd}\")\n",
    "\n",
    "# Run the command and capture output\n",
    "result = subprocess.run(cmd, shell=True, capture_output=True, text=True)\n",
    "\n",
    "# Print both stdout and stderr for full visibility\n",
    "print(result.stdout)\n",
    "if result.stderr:\n",
    "    print(\"Errors:\", result.stderr)\n"
   ]
  },
  {
   "cell_type": "code",
   "execution_count": null,
   "metadata": {
    "colab": {
     "base_uri": "https://localhost:8080/"
    },
    "id": "oC3_hCVFVcBX",
    "outputId": "1f225b45-2bd2-49bc-ccf0-ac2bfdef3723"
   },
   "outputs": [],
   "source": [
    "# Analyze the generated battery material structures\n",
    "battery_structures = {}\n",
    "cif_files_multi = glob.glob(os.path.join(output_dir_multi, \"*.cif\"))\n",
    "\n",
    "for cif_file in cif_files_multi:\n",
    "    structure = Structure.from_file(cif_file)\n",
    "    formula = structure.composition.reduced_formula\n",
    "\n",
    "    if formula not in battery_structures:\n",
    "        battery_structures[formula] = []\n",
    "    battery_structures[formula].append(structure)\n",
    "\n",
    "# Compare structures for each formula\n",
    "matcher = StructureMatcher()\n",
    "\n",
    "for formula, structures in battery_structures.items():\n",
    "    print(f\"\\n{formula}: Generated {len(structures)} structures\")\n",
    "\n",
    "    # Check for unique structures\n",
    "    unique_structures = []\n",
    "    for s in structures:\n",
    "        is_unique = True\n",
    "        for u in unique_structures:\n",
    "            if matcher.fit(s, u):\n",
    "                is_unique = False\n",
    "                break\n",
    "        if is_unique:\n",
    "            unique_structures.append(s)\n",
    "\n",
    "    print(f\"  Unique structures: {len(unique_structures)}\")\n",
    "    for i, s in enumerate(unique_structures):\n",
    "        print(f\"  Structure {i+1}: SG {s.get_space_group_info()[0]}, V={s.volume:.1f} ų\")"
   ]
  },
  {
   "cell_type": "code",
   "execution_count": null,
   "metadata": {
    "colab": {
     "base_uri": "https://localhost:8080/"
    },
    "id": "VbxjntMiWaK8",
    "outputId": "69316d3c-b0e5-4dc3-958c-e5b29c3c1862"
   },
   "outputs": [],
   "source": [
    "import tempfile\n",
    "\n",
    "output_dir_dng = tempfile.mkdtemp(prefix=\"chemeleon_dng_\")\n",
    "print(f\"Output directory: {output_dir_dng}\")\n",
    "\n",
    "!python /content/chemeleon-dng/chemeleon_dng/sample.py \\\n",
    "  --task=dng \\\n",
    "  --num_samples=20 \\\n",
    "  --batch_size=5 \\\n",
    "  --output_dir=\"{output_dir_dng}\" \\\n",
    "  --device=cpu\n"
   ]
  },
  {
   "cell_type": "code",
   "execution_count": null,
   "metadata": {
    "colab": {
     "base_uri": "https://localhost:8080/"
    },
    "id": "jNkqYFfrWkH0",
    "outputId": "8b3b24c6-2c7a-457a-907d-43faa144994a"
   },
   "outputs": [],
   "source": [
    "# Analyze the diversity of generated structures\n",
    "dng_cif_files = glob.glob(os.path.join(output_dir_dng, \"*.cif\"))\n",
    "print(f\"Generated {len(dng_cif_files)} novel structures\")\n",
    "\n",
    "# Collect composition and structural information\n",
    "compositions = []\n",
    "space_groups = []\n",
    "volumes = []\n",
    "elements_count = {}\n",
    "\n",
    "for cif_file in dng_cif_files:\n",
    "    structure = Structure.from_file(cif_file)\n",
    "    comp = structure.composition\n",
    "\n",
    "    compositions.append(comp.reduced_formula)\n",
    "    space_groups.append(structure.get_space_group_info()[0])\n",
    "    volumes.append(structure.volume / len(structure))\n",
    "\n",
    "    # Count elements\n",
    "    for element in comp.elements:\n",
    "        elem_str = str(element)\n",
    "        elements_count[elem_str] = elements_count.get(elem_str, 0) + 1\n",
    "\n",
    "# Display statistics\n",
    "print(f\"\\nUnique compositions: {len(set(compositions))}\")\n",
    "print(f\"Unique space groups: {len(set(space_groups))}\")\n",
    "print(f\"\\nMost common elements:\")\n",
    "sorted_elements = sorted(elements_count.items(), key=lambda x: x[1], reverse=True)[:10]\n",
    "for elem, count in sorted_elements:\n",
    "    print(f\"  {elem}: {count} structures\")"
   ]
  },
  {
   "cell_type": "code",
   "execution_count": null,
   "metadata": {
    "colab": {
     "base_uri": "https://localhost:8080/",
     "height": 507
    },
    "id": "t3o4lmkiYih0",
    "outputId": "c4931c3d-f495-487e-e485-f7b413c520eb"
   },
   "outputs": [],
   "source": [
    "# Visualize the distribution of generated structures\n",
    "fig, axes = plt.subplots(1, 2, figsize=(12, 5))\n",
    "\n",
    "# Volume distribution\n",
    "axes[0].hist(volumes, bins=20, edgecolor='black', alpha=0.7)\n",
    "axes[0].set_xlabel('Volume per atom (ų)')\n",
    "axes[0].set_ylabel('Count')\n",
    "axes[0].set_title('Volume Distribution of Generated Structures')\n",
    "\n",
    "# Number of elements per structure\n",
    "n_elements = [len(Composition(comp).elements) for comp in compositions]\n",
    "unique_counts = list(set(n_elements))\n",
    "count_freq = [n_elements.count(i) for i in unique_counts]\n",
    "\n",
    "axes[1].bar(unique_counts, count_freq, edgecolor='black', alpha=0.7)\n",
    "axes[1].set_xlabel('Number of unique elements')\n",
    "axes[1].set_ylabel('Count')\n",
    "axes[1].set_title('Chemical Complexity Distribution')\n",
    "axes[1].set_xticks(unique_counts)\n",
    "\n",
    "plt.tight_layout()\n",
    "plt.show()"
   ]
  }
 ],
 "metadata": {
  "colab": {
   "provenance": []
  },
  "kernelspec": {
   "display_name": "Python 3",
   "name": "python3"
  },
  "language_info": {
   "name": "python"
  }
 },
 "nbformat": 4,
 "nbformat_minor": 0
}
